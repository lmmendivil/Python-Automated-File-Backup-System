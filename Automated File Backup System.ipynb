{
 "cells": [
  {
   "cell_type": "markdown",
   "id": "8256b6b9-b9bc-4c54-a67d-3839959a23e9",
   "metadata": {},
   "source": [
    "#  Automated File Backup System"
   ]
  },
  {
   "cell_type": "code",
   "execution_count": null,
   "id": "d3aebdde-ef0c-4714-a9d7-2ba8496f7564",
   "metadata": {},
   "outputs": [],
   "source": [
    "import time\n",
    "import os\n",
    "import shutil\n",
    "\n",
    "    \n",
    "\n",
    "#Built a function that creates the folder where the backup file will be stored.  \n",
    "#Identify de file you want to create a backup of.\n",
    "\n",
    "\n",
    "def backup_file(file_path, backup_dir):\n",
    "            \n",
    "    if not os.path.exists(backup_dir):\n",
    "        os.makedirs(backup_dir)\n",
    "\n",
    "    \n",
    "    file_name = os.path.basename(file_path)  \n",
    "    backup_file_path = os.path.join(backup_dir, file_name)\n",
    "\n",
    "    \n",
    "#Create the code that will remove the outdated file and will create the backup copy.\n",
    "    \n",
    "    try:\n",
    "        if os.path.exists(backup_file_path):\n",
    "            os.remove(backup_file_path)\n",
    "\n",
    "        shutil.copy2(file_path, backup_file_path)\n",
    "\n",
    "        print(\"File updated to its latest version\")\n",
    "\n",
    "    except Exception as e:\n",
    "        print(e)\n",
    "\n",
    "\n",
    "\n",
    "#This is the function that automates the code. It's going to run the while loop every 30 min.\n",
    "\n",
    "def monitor_file(file_path, backup_dir):\n",
    "    \n",
    "    last_modification_time = None \n",
    "\n",
    "    \n",
    "    while True:\n",
    "        \n",
    "        current_modification_time = os.path.getmtime(file_path)\n",
    "        \n",
    "        if current_modification_time != last_modification_time:\n",
    "            backup_file(file_path, backup_dir)\n",
    "            last_modification_time = current_modification_time\n",
    "            \n",
    "            \n",
    "            print(\"Checkpoint!\")    \n",
    "\n",
    "        else:\n",
    "            print(\"No change detected.\")\n",
    "        \n",
    "        time.sleep(1800) \n",
    "        \n",
    "\n",
    "\n",
    "file_to_monitor = r'H:\\Mi unidad\\PARTICULAR\\PERSONAL DEVELOPMENT\\CURSOS PROFESIONALES\\Python Certificate\\Python.docx'\n",
    "backup_directory = r'C:\\Users\\mendi\\OneDrive\\Documentos\\Backup Directory'\n",
    "\n",
    "\n",
    "monitor_file(file_to_monitor, backup_directory)\n",
    "\n"
   ]
  }
 ],
 "metadata": {
  "kernelspec": {
   "display_name": "Python 3 (ipykernel)",
   "language": "python",
   "name": "python3"
  },
  "language_info": {
   "codemirror_mode": {
    "name": "ipython",
    "version": 3
   },
   "file_extension": ".py",
   "mimetype": "text/x-python",
   "name": "python",
   "nbconvert_exporter": "python",
   "pygments_lexer": "ipython3",
   "version": "3.11.7"
  }
 },
 "nbformat": 4,
 "nbformat_minor": 5
}
